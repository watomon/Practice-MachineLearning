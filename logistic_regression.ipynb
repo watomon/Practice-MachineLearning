{
 "cells": [
  {
   "cell_type": "code",
   "execution_count": 5,
   "metadata": {},
   "outputs": [
    {
     "name": "stdout",
     "output_type": "stream",
     "text": [
      "[ 1.  1.  1.  1.  1.]\n"
     ]
    }
   ],
   "source": [
    "import sklearn.datasets as datasets\n",
    "from sklearn.linear_model import LogisticRegression\n",
    "from sklearn import cross_validation\n",
    "\n",
    "#データの読み込み\n",
    "iris = datasets.load_iris()\n",
    "\n",
    "# 種類が２のものを破棄　＊今回は１つの種類の説明変数を使用する\n",
    "data = iris.data[iris.target != 2 ]\n",
    "target = iris.target[iris.target != 2]\n",
    "\n",
    "#学習\n",
    "logi = LogisticRegression()\n",
    "scores = cross_validation.cross_val_score(logi, data, target, cv=5)\n",
    "\n",
    "#結果の表示\n",
    "print(scores) #[ 1.  1.  1.  1.  1.]\n"
   ]
  }
 ],
 "metadata": {
  "kernelspec": {
   "display_name": "Python 3",
   "language": "python",
   "name": "python3"
  },
  "language_info": {
   "codemirror_mode": {
    "name": "ipython",
    "version": 3
   },
   "file_extension": ".py",
   "mimetype": "text/x-python",
   "name": "python",
   "nbconvert_exporter": "python",
   "pygments_lexer": "ipython3",
   "version": "3.6.3"
  }
 },
 "nbformat": 4,
 "nbformat_minor": 2
}
