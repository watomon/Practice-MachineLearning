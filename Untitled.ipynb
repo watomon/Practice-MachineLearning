{
 "cells": [
  {
   "cell_type": "code",
   "execution_count": 12,
   "metadata": {},
   "outputs": [
    {
     "name": "stdout",
     "output_type": "stream",
     "text": [
      "[[1 2]\n",
      " [3 4]]\n",
      "[0 1 2 3 4 5 6 7 8 9]\n",
      "[0 1]\n",
      "[1 2]\n"
     ]
    }
   ],
   "source": [
    "%matplotlib inline\n",
    "import numpy as np\n",
    "\n",
    "a = np.array([[1, 2] , [3, 4]])\n",
    "print(a)\n",
    "\n",
    "b = np.arange(10)\n",
    "print(b)\n",
    "print(b[:2])\n",
    "\n",
    "print(a[0])"
   ]
  },
  {
   "cell_type": "code",
   "execution_count": 17,
   "metadata": {},
   "outputs": [
    {
     "name": "stdout",
     "output_type": "stream",
     "text": [
      "[[2 4]\n",
      " [6 8]]\n",
      "[ True  True  True False False False False False False False]\n",
      "[0 1 2]\n"
     ]
    }
   ],
   "source": [
    " %matplotlib inline\n",
    "import numpy as np\n",
    "\n",
    "a = np.array([[1, 2] , [3, 4]])\n",
    "print(a*2)\n",
    "\n",
    "b = np.arange(10)\n",
    "ii = np.array(b<3)\n",
    "print(ii)\n",
    "print(b[b<3])\n"
   ]
  },
  {
   "cell_type": "code",
   "execution_count": 25,
   "metadata": {},
   "outputs": [
    {
     "data": {
      "image/png": "[encoded data removed]",
      "text/plain": [
       "<matplotlib.figure.Figure at 0x11a798390>"
      ]
     },
     "metadata": {},
     "output_type": "display_data"
    }
   ],
   "source": [
    " %matplotlib inline\n",
    "import numpy as np\n",
    "import matplotlib.pyplot as plt\n",
    "x=np.array([1,2,3,4])\n",
    "y1=np.array([5,6,7,8])\n",
    "y2=np.array([12,14,16,18])\n",
    "\n",
    "plt.scatter(x,y1,c=\"b\",marker=\"o\")\n",
    "plt.scatter(x,y2,c=\"r\",marker=\"+\")\n",
    "plt.show()"
   ]
  },
  {
   "cell_type": "code",
   "execution_count": 28,
   "metadata": {},
   "outputs": [
    {
     "data": {
      "image/png": "[encoded data removed]",
      "text/plain": [
       "<matplotlib.figure.Figure at 0x11a6d9470>"
      ]
     },
     "metadata": {},
     "output_type": "display_data"
    }
   ],
   "source": [
    " %matplotlib inline\n",
    "import numpy as np\n",
    "import matplotlib.pyplot as plt\n",
    "\n",
    "x= np.linspace(-5, 5, 200)\n",
    "y= np.linspace(-5, 5, 200)\n",
    "\n",
    "X,Y = np.meshgrid(x,y)\n",
    "Z = X.ravel()**2- Y.ravel()**2\n",
    "\n",
    "plt.contourf(X,Y,Z.reshape(X.shape))\n",
    "plt.show()"
   ]
  },
  {
   "cell_type": "code",
   "execution_count": null,
   "metadata": {
    "collapsed": true
   },
   "outputs": [],
   "source": []
  }
 ],
 "metadata": {
  "kernelspec": {
   "display_name": "Python 3",
   "language": "python",
   "name": "python3"
  },
  "language_info": {
   "codemirror_mode": {
    "name": "ipython",
    "version": 3
   },
   "file_extension": ".py",
   "mimetype": "text/x-python",
   "name": "python",
   "nbconvert_exporter": "python",
   "pygments_lexer": "ipython3",
   "version": "3.6.3"
  }
 },
 "nbformat": 4,
 "nbformat_minor": 2
}
